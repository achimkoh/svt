{
 "cells": [
  {
   "cell_type": "code",
   "execution_count": null,
   "metadata": {
    "collapsed": true
   },
   "outputs": [],
   "source": [
    "# download locations from Seoul Open Data"
   ]
  },
  {
   "cell_type": "code",
   "execution_count": 1,
   "metadata": {
    "collapsed": true,
    "scrolled": true
   },
   "outputs": [],
   "source": [
    "urls = [] # manually found 'endpoints'\n",
    "\n",
    "import csv\n",
    "# with open('url-bars.txt', newline='') as csvfile:\n",
    "# with open('url-loans.txt', newline='') as csvfile:\n",
    "with open('url-restaurants.txt', newline='') as csvfile:\n",
    "    urlreader = csv.reader(csvfile, delimiter='\\t')\n",
    "    for row in urlreader:\n",
    "        urls.append(row)\n",
    "        \n",
    "# remove header entry\n",
    "urls = urls[1:]"
   ]
  },
  {
   "cell_type": "code",
   "execution_count": 2,
   "metadata": {
    "collapsed": true
   },
   "outputs": [],
   "source": [
    "from selenium import webdriver\n",
    "from selenium.webdriver.chrome.options import Options\n",
    "\n",
    "chrome_options = Options()\n",
    "\n",
    "# disable download prompt\n",
    "# from https://stackoverflow.com/a/31431672/8157867\n",
    "prefs = {'profile.default_content_setting_values.automatic_downloads': 1}\n",
    "chrome_options.add_experimental_option(\"prefs\", prefs)\n",
    "browser = webdriver.Chrome(chrome_options=chrome_options)"
   ]
  },
  {
   "cell_type": "code",
   "execution_count": 3,
   "metadata": {
    "collapsed": true
   },
   "outputs": [],
   "source": [
    "for district in urls:\n",
    "    for url in district[1:]:\n",
    "        browser.get(url)\n",
    "        \n",
    "        while True:\n",
    "            try:\n",
    "                browser.execute_script('doAction(\"csv\")')\n",
    "                break\n",
    "            except:\n",
    "                pass\n",
    "\n",
    "        while True:\n",
    "            browser.execute_script('doAction(\"json\")')\n",
    "            try:\n",
    "                browser.switch_to_alert().accept()\n",
    "                pass\n",
    "            except:\n",
    "                break\n",
    "\n",
    "        while True:\n",
    "            browser.execute_script('doAction(\"excel\")')\n",
    "            try:\n",
    "                browser.switch_to_alert().accept()\n",
    "                pass\n",
    "            except:\n",
    "                break"
   ]
  },
  {
   "cell_type": "code",
   "execution_count": 4,
   "metadata": {
    "collapsed": true
   },
   "outputs": [],
   "source": [
    "browser.quit()"
   ]
  },
  {
   "cell_type": "code",
   "execution_count": null,
   "metadata": {
    "collapsed": true
   },
   "outputs": [],
   "source": []
  }
 ],
 "metadata": {
  "kernelspec": {
   "display_name": "Python 3",
   "language": "python",
   "name": "python3"
  },
  "language_info": {
   "codemirror_mode": {
    "name": "ipython",
    "version": 3
   },
   "file_extension": ".py",
   "mimetype": "text/x-python",
   "name": "python",
   "nbconvert_exporter": "python",
   "pygments_lexer": "ipython3",
   "version": "3.5.3"
  }
 },
 "nbformat": 4,
 "nbformat_minor": 2
}
